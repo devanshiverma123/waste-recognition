{
 "cells": [
  {
   "cell_type": "code",
   "execution_count": 1,
   "metadata": {},
   "outputs": [
    {
     "name": "stderr",
     "output_type": "stream",
     "text": [
      "Using TensorFlow backend.\n"
     ]
    }
   ],
   "source": [
    "import cv2\n",
    "import os\n",
    "import sys\n",
    "import numpy as np \n",
    "import pandas as pd \n",
    "import tensorflow as tf \n",
    "from keras.models import Sequential\n",
    "from keras.layers import Dense, Conv2D, MaxPooling2D, Dropout, Flatten\n",
    "\n",
    "from sklearn.preprocessing import LabelEncoder\n",
    "from sklearn.preprocessing import OneHotEncoder\n",
    "from sklearn.model_selection import train_test_split\n",
    "\n",
    "import glob\n",
    "from PIL import Image"
   ]
  },
  {
   "cell_type": "code",
   "execution_count": 2,
   "metadata": {},
   "outputs": [],
   "source": [
    "raw_path = r'C:\\Users\\NDH60042\\MAJOR PROJECT\\New Dataset'"
   ]
  },
  {
   "cell_type": "code",
   "execution_count": 4,
   "metadata": {},
   "outputs": [],
   "source": [
    "read = lambda imname: np.asarray(Image.open(imname).convert(\"RGB\").resize((224,224)))"
   ]
  },
  {
   "cell_type": "code",
   "execution_count": 5,
   "metadata": {},
   "outputs": [],
   "source": [
    "# Enter Directory of all images \n",
    "data = []\n",
    "label = []\n",
    "for folder in os.listdir(raw_path):\n",
    "    img_dir = os.path.join(raw_path,folder)\n",
    "    data_path = os.path.join(img_dir,'*g')\n",
    "    files = glob.glob(data_path)\n",
    "    \n",
    "    for f1 in files:\n",
    "        ims = [read(f1)]\n",
    "        data += ims\n",
    "        label.append(folder)\n",
    "\n",
    "img_array = np.array(data , dtype = 'uint8')"
   ]
  },
  {
   "cell_type": "code",
   "execution_count": 3,
   "metadata": {},
   "outputs": [],
   "source": [
    "class_name = []\n",
    "no_images = []\n",
    "for folder in os.listdir( raw_path ):\n",
    "    class_name.append(folder)\n",
    "    image_files = os.path.join(raw_path,folder)\n",
    "    no_images.append(len(os.listdir(image_files)))\n",
    "    "
   ]
  },
  {
   "cell_type": "code",
   "execution_count": 12,
   "metadata": {},
   "outputs": [],
   "source": [
    "import matplotlib.pyplot as plt"
   ]
  },
  {
   "cell_type": "code",
   "execution_count": 13,
   "metadata": {},
   "outputs": [],
   "source": [
    "plot_df = pd.DataFrame()\n",
    "plot_df['Class'] = class_name\n",
    "plot_df['Images'] = no_images"
   ]
  },
  {
   "cell_type": "code",
   "execution_count": 14,
   "metadata": {
    "scrolled": true
   },
   "outputs": [
    {
     "data": {
      "text/html": [
       "<div>\n",
       "<style scoped>\n",
       "    .dataframe tbody tr th:only-of-type {\n",
       "        vertical-align: middle;\n",
       "    }\n",
       "\n",
       "    .dataframe tbody tr th {\n",
       "        vertical-align: top;\n",
       "    }\n",
       "\n",
       "    .dataframe thead th {\n",
       "        text-align: right;\n",
       "    }\n",
       "</style>\n",
       "<table border=\"1\" class=\"dataframe\">\n",
       "  <thead>\n",
       "    <tr style=\"text-align: right;\">\n",
       "      <th></th>\n",
       "      <th>Class</th>\n",
       "      <th>Images</th>\n",
       "    </tr>\n",
       "  </thead>\n",
       "  <tbody>\n",
       "    <tr>\n",
       "      <td>0</td>\n",
       "      <td>bookmagazine</td>\n",
       "      <td>1160</td>\n",
       "    </tr>\n",
       "    <tr>\n",
       "      <td>1</td>\n",
       "      <td>cardboard</td>\n",
       "      <td>1043</td>\n",
       "    </tr>\n",
       "    <tr>\n",
       "      <td>2</td>\n",
       "      <td>cutlery</td>\n",
       "      <td>758</td>\n",
       "    </tr>\n",
       "    <tr>\n",
       "      <td>3</td>\n",
       "      <td>electricaldevice</td>\n",
       "      <td>947</td>\n",
       "    </tr>\n",
       "    <tr>\n",
       "      <td>4</td>\n",
       "      <td>glass bottle</td>\n",
       "      <td>954</td>\n",
       "    </tr>\n",
       "    <tr>\n",
       "      <td>5</td>\n",
       "      <td>glass jar</td>\n",
       "      <td>970</td>\n",
       "    </tr>\n",
       "    <tr>\n",
       "      <td>6</td>\n",
       "      <td>metal cans</td>\n",
       "      <td>1196</td>\n",
       "    </tr>\n",
       "    <tr>\n",
       "      <td>7</td>\n",
       "      <td>newspaper</td>\n",
       "      <td>1132</td>\n",
       "    </tr>\n",
       "    <tr>\n",
       "      <td>8</td>\n",
       "      <td>paper</td>\n",
       "      <td>1159</td>\n",
       "    </tr>\n",
       "    <tr>\n",
       "      <td>9</td>\n",
       "      <td>plastic bag</td>\n",
       "      <td>881</td>\n",
       "    </tr>\n",
       "    <tr>\n",
       "      <td>10</td>\n",
       "      <td>plastic bottle</td>\n",
       "      <td>947</td>\n",
       "    </tr>\n",
       "    <tr>\n",
       "      <td>11</td>\n",
       "      <td>platetray</td>\n",
       "      <td>884</td>\n",
       "    </tr>\n",
       "    <tr>\n",
       "      <td>12</td>\n",
       "      <td>toiletry</td>\n",
       "      <td>720</td>\n",
       "    </tr>\n",
       "    <tr>\n",
       "      <td>13</td>\n",
       "      <td>vegetablefruit</td>\n",
       "      <td>883</td>\n",
       "    </tr>\n",
       "  </tbody>\n",
       "</table>\n",
       "</div>"
      ],
      "text/plain": [
       "               Class  Images\n",
       "0       bookmagazine    1160\n",
       "1          cardboard    1043\n",
       "2            cutlery     758\n",
       "3   electricaldevice     947\n",
       "4       glass bottle     954\n",
       "5          glass jar     970\n",
       "6         metal cans    1196\n",
       "7          newspaper    1132\n",
       "8              paper    1159\n",
       "9        plastic bag     881\n",
       "10    plastic bottle     947\n",
       "11         platetray     884\n",
       "12          toiletry     720\n",
       "13    vegetablefruit     883"
      ]
     },
     "execution_count": 14,
     "metadata": {},
     "output_type": "execute_result"
    }
   ],
   "source": [
    "plot_df"
   ]
  },
  {
   "cell_type": "code",
   "execution_count": 22,
   "metadata": {},
   "outputs": [
    {
     "data": {
      "text/plain": [
       "<Figure size 2160x576 with 0 Axes>"
      ]
     },
     "metadata": {},
     "output_type": "display_data"
    },
    {
     "data": {
      "image/png": "[encoded data removed]",
      "text/plain": [
       "<Figure size 432x288 with 1 Axes>"
      ]
     },
     "metadata": {
      "needs_background": "light"
     },
     "output_type": "display_data"
    }
   ],
   "source": [
    "plt.figure(figsize=(30,8))\n",
    "fig = plot_df.plot(x = 'Class', y = 'Images' , kind = 'bar')\n",
    "fig.set_xlabel('Class', fontsize = 16)\n",
    "fig.set_ylabel('Number of Images',fontsize = 16)\n",
    "plt.xticks(fontsize = 12)\n",
    "plt.yticks(fontsize = 12)\n",
    "plt.show()"
   ]
  },
  {
   "cell_type": "code",
   "execution_count": 10,
   "metadata": {},
   "outputs": [
    {
     "data": {
      "text/plain": [
       "(13634, 224, 224, 3)"
      ]
     },
     "execution_count": 10,
     "metadata": {},
     "output_type": "execute_result"
    }
   ],
   "source": [
    "img_array.shape"
   ]
  },
  {
   "cell_type": "code",
   "execution_count": 11,
   "metadata": {},
   "outputs": [
    {
     "data": {
      "text/plain": [
       "13634"
      ]
     },
     "execution_count": 11,
     "metadata": {},
     "output_type": "execute_result"
    }
   ],
   "source": [
    "len(label)"
   ]
  },
  {
   "cell_type": "code",
   "execution_count": 12,
   "metadata": {},
   "outputs": [],
   "source": [
    "onehot_encoder = OneHotEncoder(sparse=False)\n",
    "labels_arr = np.array([[i] for i in label]).reshape(len(label),1)\n",
    "labels_encoded = onehot_encoder.fit_transform(labels_arr)\n",
    "\n",
    "np.random.seed(2)"
   ]
  },
  {
   "cell_type": "code",
   "execution_count": 13,
   "metadata": {},
   "outputs": [
    {
     "data": {
      "text/plain": [
       "(13634, 14)"
      ]
     },
     "execution_count": 13,
     "metadata": {},
     "output_type": "execute_result"
    }
   ],
   "source": [
    "labels_encoded.shape"
   ]
  },
  {
   "cell_type": "code",
   "execution_count": 14,
   "metadata": {},
   "outputs": [],
   "source": [
    "train_X, validation_X, train_y, validation_y = train_test_split(img_array , labels_encoded , test_size = 0.25)"
   ]
  },
  {
   "cell_type": "code",
   "execution_count": 15,
   "metadata": {},
   "outputs": [
    {
     "data": {
      "text/plain": [
       "(10225, 224, 224, 3)"
      ]
     },
     "execution_count": 15,
     "metadata": {},
     "output_type": "execute_result"
    }
   ],
   "source": [
    "train_X.shape"
   ]
  },
  {
   "cell_type": "code",
   "execution_count": 16,
   "metadata": {},
   "outputs": [
    {
     "data": {
      "text/plain": [
       "(3409, 224, 224, 3)"
      ]
     },
     "execution_count": 16,
     "metadata": {},
     "output_type": "execute_result"
    }
   ],
   "source": [
    "validation_X.shape"
   ]
  },
  {
   "cell_type": "code",
   "execution_count": 17,
   "metadata": {},
   "outputs": [],
   "source": [
    "class myCallback(tf.keras.callbacks.Callback):\n",
    "    def on_epoch_end(self, epoch, logs={}):\n",
    "        if(logs.get('acc')>0.9995):\n",
    "            print(\"\\nReached 99.95% accuracy so cancelling training!\")\n",
    "            self.model.stop_training = True"
   ]
  },
  {
   "cell_type": "code",
   "execution_count": 18,
   "metadata": {},
   "outputs": [
    {
     "name": "stderr",
     "output_type": "stream",
     "text": [
      "C:\\Users\\NDH60042\\AppData\\Local\\Continuum\\anaconda3\\lib\\site-packages\\keras_applications\\resnet50.py:265: UserWarning: The output shape of `ResNet50(include_top=False)` has been changed since Keras 2.2.0.\n",
      "  warnings.warn('The output shape of `ResNet50(include_top=False)` '\n"
     ]
    }
   ],
   "source": [
    "from keras.applications.resnet50 import ResNet50\n",
    "\n",
    "conv_base = ResNet50(weights = 'imagenet', include_top = False, input_shape = (224,224,3))"
   ]
  },
  {
   "cell_type": "code",
   "execution_count": 19,
   "metadata": {},
   "outputs": [],
   "source": [
    "model = Sequential()\n",
    "model.add(conv_base)\n",
    "model.add(Flatten())\n",
    "model.add(Dense(256, activation = 'relu'))\n",
    "model.add(Dense(len(labels_encoded[0]),activation = 'softmax'))"
   ]
  },
  {
   "cell_type": "code",
   "execution_count": 20,
   "metadata": {
    "scrolled": true
   },
   "outputs": [
    {
     "name": "stdout",
     "output_type": "stream",
     "text": [
      "Model: \"sequential_1\"\n",
      "_________________________________________________________________\n",
      "Layer (type)                 Output Shape              Param #   \n",
      "=================================================================\n",
      "resnet50 (Model)             (None, 7, 7, 2048)        23587712  \n",
      "_________________________________________________________________\n",
      "flatten_1 (Flatten)          (None, 100352)            0         \n",
      "_________________________________________________________________\n",
      "dense_1 (Dense)              (None, 256)               25690368  \n",
      "_________________________________________________________________\n",
      "dense_2 (Dense)              (None, 14)                3598      \n",
      "=================================================================\n",
      "Total params: 49,281,678\n",
      "Trainable params: 49,228,558\n",
      "Non-trainable params: 53,120\n",
      "_________________________________________________________________\n"
     ]
    }
   ],
   "source": [
    "model.summary()"
   ]
  },
  {
   "cell_type": "code",
   "execution_count": 21,
   "metadata": {},
   "outputs": [
    {
     "data": {
      "text/plain": [
       "4"
      ]
     },
     "execution_count": 21,
     "metadata": {},
     "output_type": "execute_result"
    }
   ],
   "source": [
    "len(model.trainable_weights)\n",
    "conv_base.trainable = False\n",
    "len(model.trainable_weights)"
   ]
  },
  {
   "cell_type": "code",
   "execution_count": 48,
   "metadata": {},
   "outputs": [
    {
     "name": "stdout",
     "output_type": "stream",
     "text": [
      "Model: \"sequential_1\"\n",
      "_________________________________________________________________\n",
      "Layer (type)                 Output Shape              Param #   \n",
      "=================================================================\n",
      "resnet50 (Model)             (None, 7, 7, 2048)        23587712  \n",
      "_________________________________________________________________\n",
      "flatten_1 (Flatten)          (None, 100352)            0         \n",
      "_________________________________________________________________\n",
      "dense_1 (Dense)              (None, 256)               25690368  \n",
      "_________________________________________________________________\n",
      "dense_2 (Dense)              (None, 14)                3598      \n",
      "=================================================================\n",
      "Total params: 49,281,678\n",
      "Trainable params: 25,693,966\n",
      "Non-trainable params: 23,587,712\n",
      "_________________________________________________________________\n"
     ]
    }
   ],
   "source": [
    "model.summary()"
   ]
  },
  {
   "cell_type": "code",
   "execution_count": 22,
   "metadata": {},
   "outputs": [],
   "source": [
    "model.compile(optimizer='adam', loss='categorical_crossentropy', metrics=['accuracy'])"
   ]
  },
  {
   "cell_type": "code",
   "execution_count": 23,
   "metadata": {},
   "outputs": [],
   "source": [
    "from keras.preprocessing.image import ImageDataGenerator"
   ]
  },
  {
   "cell_type": "code",
   "execution_count": 24,
   "metadata": {},
   "outputs": [],
   "source": [
    "datagen = ImageDataGenerator(\n",
    "    rotation_range=40,\n",
    "    width_shift_range=0.2,\n",
    "    height_shift_range=0.2,\n",
    "    rescale=1/255,\n",
    "    shear_range=0.2,\n",
    "    zoom_range=0.2,\n",
    "    horizontal_flip=True,\n",
    "    fill_mode='nearest',\n",
    "    validation_split=0.2\n",
    ")\n",
    "test_datagen = ImageDataGenerator(\n",
    "    rescale=1/255,\n",
    ")\n",
    "\n",
    "\n",
    "batch_size = 32"
   ]
  },
  {
   "cell_type": "code",
   "execution_count": 25,
   "metadata": {},
   "outputs": [],
   "source": [
    "# import os\n",
    "# labels_count = dict()\n",
    "# for img_class in [ic for ic in os.listdir(raw_path) ]:\n",
    "#     labels_count[img_class] = len(os.listdir(raw_path + '/' + img_class))\n",
    "# total_count = sum(labels_count.values())\n",
    "# class_weights = {cls: total_count / count for cls, count in \n",
    "#                  enumerate(labels_count.values())}\n"
   ]
  },
  {
   "cell_type": "code",
   "execution_count": 26,
   "metadata": {
    "scrolled": true
   },
   "outputs": [],
   "source": [
    "# class_weights"
   ]
  },
  {
   "cell_type": "code",
   "execution_count": 41,
   "metadata": {
    "scrolled": true
   },
   "outputs": [
    {
     "name": "stdout",
     "output_type": "stream",
     "text": [
      "Epoch 1/10\n",
      "319/319 [==============================] - 3804s 12s/step - loss: 2.7482 - accuracy: 0.5475 - val_loss: 1.5930 - val_accuracy: 0.6016\n",
      "Epoch 2/10\n",
      "319/319 [==============================] - 3508s 11s/step - loss: 1.1299 - accuracy: 0.6797 - val_loss: 1.3779 - val_accuracy: 0.6307\n",
      "Epoch 3/10\n",
      "319/319 [==============================] - 3487s 11s/step - loss: 1.0113 - accuracy: 0.7090 - val_loss: 1.2764 - val_accuracy: 0.6712\n",
      "Epoch 4/10\n",
      "319/319 [==============================] - 3488s 11s/step - loss: 0.8857 - accuracy: 0.7375 - val_loss: 1.2013 - val_accuracy: 0.6847\n",
      "Epoch 5/10\n",
      "319/319 [==============================] - 3489s 11s/step - loss: 0.7815 - accuracy: 0.7659 - val_loss: 1.3078 - val_accuracy: 0.6688\n",
      "Epoch 6/10\n",
      "319/319 [==============================] - 3484s 11s/step - loss: 0.7110 - accuracy: 0.7791 - val_loss: 1.3101 - val_accuracy: 0.6803\n",
      "Epoch 7/10\n",
      "319/319 [==============================] - 3509s 11s/step - loss: 0.6643 - accuracy: 0.7967 - val_loss: 1.1818 - val_accuracy: 0.6917\n",
      "Epoch 8/10\n",
      "319/319 [==============================] - 3551s 11s/step - loss: 0.6358 - accuracy: 0.8016 - val_loss: 1.3070 - val_accuracy: 0.6621\n",
      "Epoch 9/10\n",
      "319/319 [==============================] - 3490s 11s/step - loss: 0.5826 - accuracy: 0.8168 - val_loss: 1.3664 - val_accuracy: 0.6709\n",
      "Epoch 10/10\n",
      "319/319 [==============================] - 4384s 14s/step - loss: 0.5871 - accuracy: 0.8205 - val_loss: 1.2499 - val_accuracy: 0.6779\n"
     ]
    },
    {
     "data": {
      "text/plain": [
       "<keras.callbacks.callbacks.History at 0x22f95c5d188>"
      ]
     },
     "execution_count": 41,
     "metadata": {},
     "output_type": "execute_result"
    }
   ],
   "source": [
    "model.fit_generator(\n",
    "    datagen.flow(train_X,train_y),\n",
    "    steps_per_epoch=len(train_X) // batch_size,\n",
    "    epochs=10,\n",
    "    validation_data=(validation_X,validation_y),\n",
    "    validation_steps=len(validation_X) // batch_size\n",
    ")"
   ]
  },
  {
   "cell_type": "code",
   "execution_count": 28,
   "metadata": {},
   "outputs": [
    {
     "data": {
      "image/png": "[encoded data removed]",
      "text/plain": [
       "<Figure size 1440x576 with 1 Axes>"
      ]
     },
     "metadata": {
      "needs_background": "light"
     },
     "output_type": "display_data"
    }
   ],
   "source": [
    "import matplotlib.pyplot as plt\n",
    "\n",
    "#LOSS\n",
    "train_loss = [2.7482,1.1299,1.0113,0.8857,0.7815,0.7110,0.6643,0.6358,0.5826,0.5871]\n",
    "val_loss = [1.5930,1.3779,1.2764,1.2103,1.3078,1.3101,1.1818,1.3070,1.3664,1.2499]\n",
    "\n",
    "plt.figure(figsize=(20,8))\n",
    "plt.plot(train_loss)\n",
    "plt.plot(val_loss)\n",
    "plt.title('Model Loss',fontsize = 18)\n",
    "plt.xticks(fontsize = 14)\n",
    "plt.yticks(fontsize = 14)\n",
    "plt.ylabel('Loss',fontsize = 16)\n",
    "plt.xlabel('Epoch',fontsize = 16)\n",
    "plt.legend(['Train', 'Validation'], loc='upper left',fontsize = 16)\n",
    "plt.show()\n"
   ]
  },
  {
   "cell_type": "code",
   "execution_count": 29,
   "metadata": {},
   "outputs": [
    {
     "data": {
      "text/plain": [
       "<matplotlib.legend.Legend at 0x22cdefad448>"
      ]
     },
     "execution_count": 29,
     "metadata": {},
     "output_type": "execute_result"
    },
    {
     "data": {
      "image/png": "[encoded data removed]",
      "text/plain": [
       "<Figure size 1440x576 with 1 Axes>"
      ]
     },
     "metadata": {
      "needs_background": "light"
     },
     "output_type": "display_data"
    }
   ],
   "source": [
    "train_acc = [0.5475,0.6797,0.7090,0.7375,0.7659,0.7791,0.7967,0.8016,0.8168,0.8205]\n",
    "val_acc = [0.6016,0.6307,0.6712,0.6847,0.6688,0.6803,0.6917,0.6621,0.6709,0.6779]\n",
    "\n",
    "plt.figure(figsize=(20,8))\n",
    "plt.plot(train_acc)\n",
    "plt.plot(val_acc)\n",
    "plt.title('Model Accuracy',fontsize = 18)\n",
    "plt.ylabel('Accuracy', fontsize = 16)\n",
    "plt.xticks(fontsize = 14)\n",
    "plt.yticks(fontsize = 14)\n",
    "plt.xlabel('Epoch', fontsize = 16)\n",
    "plt.legend(['Train', 'Validation'],loc='upper left',fontsize = 16)"
   ]
  },
  {
   "cell_type": "code",
   "execution_count": 42,
   "metadata": {},
   "outputs": [],
   "source": [
    "model.save('ResNet.h5')"
   ]
  },
  {
   "cell_type": "code",
   "execution_count": 54,
   "metadata": {},
   "outputs": [],
   "source": [
    "history = model"
   ]
  },
  {
   "cell_type": "code",
   "execution_count": 43,
   "metadata": {},
   "outputs": [
    {
     "data": {
      "text/plain": [
       "(13634, 224, 224, 3)"
      ]
     },
     "execution_count": 43,
     "metadata": {},
     "output_type": "execute_result"
    }
   ],
   "source": [
    "img_array.shape"
   ]
  },
  {
   "cell_type": "code",
   "execution_count": 45,
   "metadata": {},
   "outputs": [],
   "source": [
    "waste_classes = {\n",
    "    '0' : 'Book/Magazine',\n",
    "    '1' : 'Cardboard',\n",
    "    '2' : 'Cutlery/Utensils',\n",
    "    '3' : 'Electrical Device',\n",
    "    '4' : 'Glass Bottle',\n",
    "    '5' : 'Glass Jar',\n",
    "    '6' : 'Metal Cans',\n",
    "    '7' : 'Newspaper',\n",
    "    '8' : 'Paper',\n",
    "    '9' : 'Plastic Bag',\n",
    "    '10' : 'Plastic Bottle',\n",
    "    '11' : 'Plate/ Tray',\n",
    "    '12' : 'Toiletry',\n",
    "    '13' : 'Vegetable/Fruit'\n",
    "} "
   ]
  },
  {
   "cell_type": "code",
   "execution_count": 66,
   "metadata": {},
   "outputs": [],
   "source": [
    "video = cv2.VideoCapture(0)\n",
    "final_result = ''\n",
    "while True:\n",
    "        _, frame = video.read()\n",
    " \n",
    "        start_point = (160,160)\n",
    "        end_point = (440,440)\n",
    "        color =  (0,225,0)\n",
    "        thickness = 2\n",
    "        \n",
    "        frame = cv2.rectangle(frame, start_point , end_point , color , thickness) \n",
    "        \n",
    "        #Resizing into 224x224 because we trained the model with this image size and changing to RGB channel\n",
    "        im = Image.fromarray(frame, 'RGB') \n",
    "        im = im.resize((224,224))\n",
    "        img_array = np.array(im)\n",
    "\n",
    "        #Our keras model used a 4D tensor, (images x height x width x channel)\n",
    "        #So changing dimension 224x224x3 into 1x224x224x3 \n",
    "        img_array = np.expand_dims(img_array, axis=0)\n",
    "\n",
    "        #Calling the predict method on model\n",
    "        prediction = model.predict(img_array)\n",
    "        class_prediction = np.argmax(prediction, axis=1)\n",
    "    \n",
    "        answer = [v for k,v in waste_classes.items() if str(class_prediction[0]) == k][0]     \n",
    "        cv2.putText(frame, answer, (50,50) , cv2.FONT_HERSHEY_SIMPLEX , 2 ,(255, 0, 0),\n",
    "                2,  \n",
    "                cv2.LINE_4)\n",
    "        key=cv2.waitKey(1)\n",
    "        \n",
    "        # Press s only if you want to get DIY ideas \n",
    "        if key == ord('s'):\n",
    "            cv2.imwrite(filename='saved_img.jpg', img=frame)\n",
    "            img_new = cv2.imread('saved_img.jpg', cv2.IMREAD_GRAYSCALE)\n",
    "            img_new = cv2.imshow(\"Captured Image\", img_new)\n",
    "            \n",
    "            #Here we are storing the image whose DIY hacks we want to know in the testing folder, in a processed form\n",
    "            print(\"Processing image...\")\n",
    "            img_ = cv2.imread('saved_img.jpg', cv2.IMREAD_ANYCOLOR)\n",
    "            print(\"Resizing image to 224x224 scale...\")\n",
    "            img_ = cv2.resize(img_,(224,224))\n",
    "            print(\"Resized...\")\n",
    "            img_resized = cv2.imwrite(filename=r'C:\\Users\\NDH60042\\MAJOR PROJECT\\test\\saved_img-final.jpg', img=img_)\n",
    "            print(\"Image saved!\")\n",
    "            \n",
    "            #Here we are reading the image that just got stored in the test folder\n",
    "            test_data = []\n",
    "            testpath_ = r'C:\\Users\\NDH60042\\MAJOR PROJECT\\test'\n",
    "            testdata_path = os.path.join(testpath_ ,'*g')\n",
    "            test_files = glob.glob(testdata_path)\n",
    "            for f in test_files:\n",
    "                ims = [read(f)]\n",
    "                test_data += ims\n",
    "      \n",
    "            test_array = np.array(test_data , dtype = 'uint8')\n",
    "            \n",
    "            #Predicting the class\n",
    "            prediction = model.predict(test_array)\n",
    "            class_prediction = np.argmax(prediction, axis = 1)\n",
    "            \n",
    "            answer = [v for k,v in waste_classes.items() if str(class_prediction[0]) == k][0]     \n",
    "            \n",
    "            cv2.putText(img_new, answer, (50,50) , cv2.FONT_HERSHEY_SIMPLEX , 2 ,(255, 0, 0),\n",
    "                        2, cv2.LINE_4)\n",
    "            \n",
    "            #Storing the result whose DIY hacks we want\n",
    "            final_result = answer\n",
    "            cv2.waitKey(1650)\n",
    "            cv2.destroyAllWindows()\n",
    "            \n",
    "            break\n",
    "\n",
    "        cv2.imshow(\"video\", frame)\n",
    "       \n",
    "        if key == ord('q'):\n",
    "                break\n",
    "video.release()\n",
    "cv2.destroyAllWindows()"
   ]
  },
  {
   "cell_type": "code",
   "execution_count": 52,
   "metadata": {},
   "outputs": [
    {
     "data": {
      "text/plain": [
       "'Book/Magazine'"
      ]
     },
     "execution_count": 52,
     "metadata": {},
     "output_type": "execute_result"
    }
   ],
   "source": [
    "final_result"
   ]
  },
  {
   "cell_type": "code",
   "execution_count": 67,
   "metadata": {},
   "outputs": [],
   "source": [
    "import pickle\n"
   ]
  },
  {
   "cell_type": "code",
   "execution_count": 69,
   "metadata": {},
   "outputs": [],
   "source": [
    "filename = 'mainmodel.pkl'\n",
    "pickle.dump(model,open(filename,'wb'))"
   ]
  },
  {
   "cell_type": "code",
   "execution_count": null,
   "metadata": {},
   "outputs": [],
   "source": []
  }
 ],
 "metadata": {
  "kernelspec": {
   "display_name": "Python 3",
   "language": "python",
   "name": "python3"
  },
  "language_info": {
   "codemirror_mode": {
    "name": "ipython",
    "version": 3
   },
   "file_extension": ".py",
   "mimetype": "text/x-python",
   "name": "python",
   "nbconvert_exporter": "python",
   "pygments_lexer": "ipython3",
   "version": "3.7.4"
  }
 },
 "nbformat": 4,
 "nbformat_minor": 2
}
