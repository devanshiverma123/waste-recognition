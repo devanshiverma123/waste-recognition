{
 "cells": [
  {
   "cell_type": "code",
   "execution_count": 1,
   "metadata": {},
   "outputs": [
    {
     "name": "stderr",
     "output_type": "stream",
     "text": [
      "Using TensorFlow backend.\n"
     ]
    }
   ],
   "source": [
    "import cv2\n",
    "import os\n",
    "import sys\n",
    "import numpy as np \n",
    "import pandas as pd \n",
    "import tensorflow as tf \n",
    "from keras.models import Sequential\n",
    "from keras.layers import Dense, Conv2D, MaxPooling2D, Dropout, Flatten\n",
    "\n",
    "from sklearn.preprocessing import LabelEncoder\n",
    "from sklearn.preprocessing import OneHotEncoder\n",
    "from sklearn.model_selection import train_test_split\n",
    "\n",
    "import glob\n",
    "from PIL import Image"
   ]
  },
  {
   "cell_type": "code",
   "execution_count": 2,
   "metadata": {},
   "outputs": [],
   "source": [
    "raw_path = r'D:\\Images for Object Recognition\\DATASET'"
   ]
  },
  {
   "cell_type": "code",
   "execution_count": 3,
   "metadata": {},
   "outputs": [],
   "source": [
    "read = lambda imname: np.asarray(Image.open(imname).convert(\"RGB\").resize((224,224)))"
   ]
  },
  {
   "cell_type": "code",
   "execution_count": 4,
   "metadata": {},
   "outputs": [],
   "source": [
    "data = []\n",
    "label = []\n",
    "for folder in os.listdir(raw_path):\n",
    "    img_dir = os.path.join(raw_path,folder)\n",
    "    data_path = os.path.join(img_dir,'*g')\n",
    "    files = glob.glob(data_path)\n",
    "    \n",
    "    for f1 in files:\n",
    "        ims = [read(f1)]\n",
    "        data += ims\n",
    "        label.append(folder)\n",
    "\n",
    "img_array = np.array(data , dtype = 'uint8')"
   ]
  },
  {
   "cell_type": "code",
   "execution_count": 5,
   "metadata": {},
   "outputs": [],
   "source": [
    "class_name = []\n",
    "no_images = []\n",
    "for folder in os.listdir( raw_path ):\n",
    "    class_name.append(folder)\n",
    "    image_files = os.path.join(raw_path,folder)\n",
    "    no_images.append(len(os.listdir(image_files)))"
   ]
  },
  {
   "cell_type": "code",
   "execution_count": 6,
   "metadata": {},
   "outputs": [],
   "source": [
    "import matplotlib.pyplot as plt"
   ]
  },
  {
   "cell_type": "code",
   "execution_count": 7,
   "metadata": {},
   "outputs": [],
   "source": [
    "plot_df = pd.DataFrame()\n",
    "plot_df['Class'] = class_name\n",
    "plot_df['Images'] = no_images"
   ]
  },
  {
   "cell_type": "code",
   "execution_count": 8,
   "metadata": {},
   "outputs": [
    {
     "data": {
      "text/html": [
       "<div>\n",
       "<style scoped>\n",
       "    .dataframe tbody tr th:only-of-type {\n",
       "        vertical-align: middle;\n",
       "    }\n",
       "\n",
       "    .dataframe tbody tr th {\n",
       "        vertical-align: top;\n",
       "    }\n",
       "\n",
       "    .dataframe thead th {\n",
       "        text-align: right;\n",
       "    }\n",
       "</style>\n",
       "<table border=\"1\" class=\"dataframe\">\n",
       "  <thead>\n",
       "    <tr style=\"text-align: right;\">\n",
       "      <th></th>\n",
       "      <th>Class</th>\n",
       "      <th>Images</th>\n",
       "    </tr>\n",
       "  </thead>\n",
       "  <tbody>\n",
       "    <tr>\n",
       "      <th>0</th>\n",
       "      <td>Bottle</td>\n",
       "      <td>874</td>\n",
       "    </tr>\n",
       "    <tr>\n",
       "      <th>1</th>\n",
       "      <td>Cans</td>\n",
       "      <td>982</td>\n",
       "    </tr>\n",
       "    <tr>\n",
       "      <th>2</th>\n",
       "      <td>Cardboard</td>\n",
       "      <td>1061</td>\n",
       "    </tr>\n",
       "    <tr>\n",
       "      <th>3</th>\n",
       "      <td>Cups</td>\n",
       "      <td>614</td>\n",
       "    </tr>\n",
       "    <tr>\n",
       "      <th>4</th>\n",
       "      <td>Cutlery</td>\n",
       "      <td>996</td>\n",
       "    </tr>\n",
       "    <tr>\n",
       "      <th>5</th>\n",
       "      <td>Jars</td>\n",
       "      <td>1012</td>\n",
       "    </tr>\n",
       "    <tr>\n",
       "      <th>6</th>\n",
       "      <td>Laptop Accessories</td>\n",
       "      <td>1026</td>\n",
       "    </tr>\n",
       "    <tr>\n",
       "      <th>7</th>\n",
       "      <td>Organic Waste</td>\n",
       "      <td>1213</td>\n",
       "    </tr>\n",
       "    <tr>\n",
       "      <th>8</th>\n",
       "      <td>Paper</td>\n",
       "      <td>1008</td>\n",
       "    </tr>\n",
       "    <tr>\n",
       "      <th>9</th>\n",
       "      <td>Plastic Bag</td>\n",
       "      <td>671</td>\n",
       "    </tr>\n",
       "    <tr>\n",
       "      <th>10</th>\n",
       "      <td>Stationary</td>\n",
       "      <td>1309</td>\n",
       "    </tr>\n",
       "    <tr>\n",
       "      <th>11</th>\n",
       "      <td>Utensil</td>\n",
       "      <td>930</td>\n",
       "    </tr>\n",
       "  </tbody>\n",
       "</table>\n",
       "</div>"
      ],
      "text/plain": [
       "                 Class  Images\n",
       "0               Bottle     874\n",
       "1                 Cans     982\n",
       "2            Cardboard    1061\n",
       "3                 Cups     614\n",
       "4              Cutlery     996\n",
       "5                 Jars    1012\n",
       "6   Laptop Accessories    1026\n",
       "7        Organic Waste    1213\n",
       "8                Paper    1008\n",
       "9          Plastic Bag     671\n",
       "10          Stationary    1309\n",
       "11             Utensil     930"
      ]
     },
     "execution_count": 8,
     "metadata": {},
     "output_type": "execute_result"
    }
   ],
   "source": [
    "plot_df"
   ]
  },
  {
   "cell_type": "code",
   "execution_count": 9,
   "metadata": {},
   "outputs": [
    {
     "data": {
      "text/plain": [
       "<Figure size 2160x576 with 0 Axes>"
      ]
     },
     "metadata": {},
     "output_type": "display_data"
    },
    {
     "data": {
      "image/png": "[encoded data removed]",
      "text/plain": [
       "<Figure size 432x288 with 1 Axes>"
      ]
     },
     "metadata": {
      "needs_background": "light"
     },
     "output_type": "display_data"
    }
   ],
   "source": [
    "plt.figure(figsize=(30,8))\n",
    "fig = plot_df.plot(x = 'Class', y = 'Images' , kind = 'bar')\n",
    "fig.set_xlabel('Class', fontsize = 16)\n",
    "fig.set_ylabel('Number of Images',fontsize = 16)\n",
    "plt.xticks(fontsize = 12)\n",
    "plt.yticks(fontsize = 12)\n",
    "plt.show()"
   ]
  },
  {
   "cell_type": "code",
   "execution_count": 10,
   "metadata": {},
   "outputs": [
    {
     "data": {
      "text/plain": [
       "(11696, 224, 224, 3)"
      ]
     },
     "execution_count": 10,
     "metadata": {},
     "output_type": "execute_result"
    }
   ],
   "source": [
    "img_array.shape"
   ]
  },
  {
   "cell_type": "code",
   "execution_count": 11,
   "metadata": {
    "scrolled": false
   },
   "outputs": [
    {
     "name": "stderr",
     "output_type": "stream",
     "text": [
      "C:\\Users\\HP\\anaconda3\\envs\\tensorflow_env\\lib\\site-packages\\keras_applications\\resnet50.py:265: UserWarning: The output shape of `ResNet50(include_top=False)` has been changed since Keras 2.2.0.\n",
      "  warnings.warn('The output shape of `ResNet50(include_top=False)` '\n"
     ]
    }
   ],
   "source": [
    "from keras.applications.resnet50 import ResNet50\n",
    "\n",
    "conv_base = ResNet50(weights = 'imagenet', include_top = False, input_shape = (224,224,3))"
   ]
  },
  {
   "cell_type": "code",
   "execution_count": 12,
   "metadata": {},
   "outputs": [],
   "source": [
    "onehot_encoder = OneHotEncoder(sparse=False)\n",
    "labels_arr = np.array([[i] for i in label]).reshape(len(label),1)\n",
    "labels_encoded = onehot_encoder.fit_transform(labels_arr)\n",
    "\n",
    "np.random.seed(2)"
   ]
  },
  {
   "cell_type": "code",
   "execution_count": 13,
   "metadata": {},
   "outputs": [],
   "source": [
    "from keras.layers import Dropout"
   ]
  },
  {
   "cell_type": "code",
   "execution_count": 14,
   "metadata": {},
   "outputs": [],
   "source": [
    "model = Sequential()\n",
    "model.add(conv_base)\n",
    "model.add(Flatten())\n",
    "model.add(Dense(256, activation = 'relu'))\n",
    "model.add(Dropout(0.2))\n",
    "model.add(Dense(len(labels_encoded[0]),activation = 'softmax'))"
   ]
  },
  {
   "cell_type": "code",
   "execution_count": 15,
   "metadata": {},
   "outputs": [],
   "source": [
    "for layer in conv_base.layers:\n",
    "    layer.trainable = False"
   ]
  },
  {
   "cell_type": "code",
   "execution_count": 16,
   "metadata": {
    "scrolled": false
   },
   "outputs": [
    {
     "name": "stdout",
     "output_type": "stream",
     "text": [
      "Model: \"sequential_1\"\n",
      "_________________________________________________________________\n",
      "Layer (type)                 Output Shape              Param #   \n",
      "=================================================================\n",
      "resnet50 (Model)             (None, 7, 7, 2048)        23587712  \n",
      "_________________________________________________________________\n",
      "flatten_1 (Flatten)          (None, 100352)            0         \n",
      "_________________________________________________________________\n",
      "dense_1 (Dense)              (None, 256)               25690368  \n",
      "_________________________________________________________________\n",
      "dropout_1 (Dropout)          (None, 256)               0         \n",
      "_________________________________________________________________\n",
      "dense_2 (Dense)              (None, 12)                3084      \n",
      "=================================================================\n",
      "Total params: 49,281,164\n",
      "Trainable params: 25,693,452\n",
      "Non-trainable params: 23,587,712\n",
      "_________________________________________________________________\n"
     ]
    }
   ],
   "source": [
    "model.summary()"
   ]
  },
  {
   "cell_type": "code",
   "execution_count": 17,
   "metadata": {},
   "outputs": [],
   "source": [
    "import keras"
   ]
  },
  {
   "cell_type": "code",
   "execution_count": 18,
   "metadata": {},
   "outputs": [],
   "source": [
    "optimizer = keras.optimizers.Adam(lr=1e-4)"
   ]
  },
  {
   "cell_type": "code",
   "execution_count": 19,
   "metadata": {},
   "outputs": [],
   "source": [
    "model.compile(optimizer=optimizer, loss='categorical_crossentropy', metrics=['accuracy'])"
   ]
  },
  {
   "cell_type": "code",
   "execution_count": 20,
   "metadata": {},
   "outputs": [],
   "source": [
    "from keras.preprocessing.image import ImageDataGenerator"
   ]
  },
  {
   "cell_type": "code",
   "execution_count": 21,
   "metadata": {},
   "outputs": [],
   "source": [
    "train_X, validation_X, train_y, validation_y = train_test_split(img_array , labels_encoded , test_size = 0.20, shuffle=True, stratify=labels_encoded)"
   ]
  },
  {
   "cell_type": "code",
   "execution_count": 22,
   "metadata": {},
   "outputs": [
    {
     "data": {
      "text/plain": [
       "2340"
      ]
     },
     "execution_count": 22,
     "metadata": {},
     "output_type": "execute_result"
    }
   ],
   "source": [
    "len(validation_X)"
   ]
  },
  {
   "cell_type": "code",
   "execution_count": 23,
   "metadata": {},
   "outputs": [],
   "source": [
    "datagen = ImageDataGenerator(\n",
    "    rotation_range=40,\n",
    "    rescale=1./255,\n",
    "    shear_range=0.2,\n",
    "    zoom_range=0.2,\n",
    "    horizontal_flip=True,\n",
    ")\n",
    "test_datagen = ImageDataGenerator(\n",
    "    rescale=1./255,\n",
    ")\n",
    "\n",
    "\n",
    "batch_size = 32"
   ]
  },
  {
   "cell_type": "code",
   "execution_count": 24,
   "metadata": {},
   "outputs": [],
   "source": [
    "filepath=\"weights.best2.hdf5\""
   ]
  },
  {
   "cell_type": "code",
   "execution_count": 25,
   "metadata": {},
   "outputs": [],
   "source": [
    "callbacks = [\n",
    "    keras.callbacks.EarlyStopping(monitor='val_accuracy', patience=5, verbose=1, min_delta=1e-4, baseline=0.8300),\n",
    "    keras.callbacks.ModelCheckpoint(filepath, monitor='val_accuracy', verbose=1, save_best_only=True, mode='max')\n",
    "    ]\n"
   ]
  },
  {
   "cell_type": "code",
   "execution_count": 26,
   "metadata": {
    "scrolled": false
   },
   "outputs": [
    {
     "name": "stdout",
     "output_type": "stream",
     "text": [
      "Epoch 1/50\n",
      "292/292 [==============================] - 2183s 7s/step - loss: 1.0954 - accuracy: 0.6739 - val_loss: 2.8033 - val_accuracy: 0.1498\n",
      "\n",
      "Epoch 00001: val_accuracy improved from -inf to 0.14983, saving model to weights.best2.hdf5\n",
      "Epoch 2/50\n",
      "292/292 [==============================] - 2133s 7s/step - loss: 0.6080 - accuracy: 0.8101 - val_loss: 1.6508 - val_accuracy: 0.4588\n",
      "\n",
      "Epoch 00002: val_accuracy improved from 0.14983 to 0.45884, saving model to weights.best2.hdf5\n",
      "Epoch 3/50\n",
      "292/292 [==============================] - 2123s 7s/step - loss: 0.4915 - accuracy: 0.8487 - val_loss: 0.7540 - val_accuracy: 0.7764\n",
      "\n",
      "Epoch 00003: val_accuracy improved from 0.45884 to 0.77643, saving model to weights.best2.hdf5\n",
      "Epoch 4/50\n",
      "292/292 [==============================] - 2200s 8s/step - loss: 0.4324 - accuracy: 0.8590 - val_loss: 0.1488 - val_accuracy: 0.8488\n",
      "\n",
      "Epoch 00004: val_accuracy improved from 0.77643 to 0.84879, saving model to weights.best2.hdf5\n",
      "Epoch 5/50\n",
      "292/292 [==============================] - 2228s 8s/step - loss: 0.3539 - accuracy: 0.8836 - val_loss: 0.1437 - val_accuracy: 0.8679\n",
      "\n",
      "Epoch 00005: val_accuracy improved from 0.84879 to 0.86785, saving model to weights.best2.hdf5\n",
      "Epoch 6/50\n",
      "292/292 [==============================] - 2828s 10s/step - loss: 0.3230 - accuracy: 0.8953 - val_loss: 0.3928 - val_accuracy: 0.8778\n",
      "\n",
      "Epoch 00006: val_accuracy improved from 0.86785 to 0.87782, saving model to weights.best2.hdf5\n",
      "Epoch 7/50\n",
      "292/292 [==============================] - 2800s 10s/step - loss: 0.2922 - accuracy: 0.9051 - val_loss: 0.4648 - val_accuracy: 0.8666\n",
      "\n",
      "Epoch 00007: val_accuracy did not improve from 0.87782\n",
      "Epoch 8/50\n",
      "292/292 [==============================] - 2472s 8s/step - loss: 0.2916 - accuracy: 0.9060 - val_loss: 0.7089 - val_accuracy: 0.8761\n",
      "\n",
      "Epoch 00008: val_accuracy did not improve from 0.87782\n",
      "Epoch 9/50\n",
      "292/292 [==============================] - 2443s 8s/step - loss: 0.2533 - accuracy: 0.9222 - val_loss: 0.7187 - val_accuracy: 0.8791\n",
      "\n",
      "Epoch 00009: val_accuracy improved from 0.87782 to 0.87912, saving model to weights.best2.hdf5\n",
      "Epoch 10/50\n",
      "292/292 [==============================] - 2360s 8s/step - loss: 0.2311 - accuracy: 0.9241 - val_loss: 1.8810 - val_accuracy: 0.8821\n",
      "\n",
      "Epoch 00010: val_accuracy improved from 0.87912 to 0.88215, saving model to weights.best2.hdf5\n",
      "Epoch 11/50\n",
      "292/292 [==============================] - 2328s 8s/step - loss: 0.2267 - accuracy: 0.9235 - val_loss: 0.1992 - val_accuracy: 0.8679\n",
      "\n",
      "Epoch 00011: val_accuracy did not improve from 0.88215\n",
      "Epoch 12/50\n",
      "292/292 [==============================] - 2336s 8s/step - loss: 0.2148 - accuracy: 0.9304 - val_loss: 0.7741 - val_accuracy: 0.8787\n",
      "\n",
      "Epoch 00012: val_accuracy did not improve from 0.88215\n",
      "Epoch 13/50\n",
      "292/292 [==============================] - 2330s 8s/step - loss: 0.2131 - accuracy: 0.9313 - val_loss: 0.3153 - val_accuracy: 0.8817\n",
      "\n",
      "Epoch 00013: val_accuracy did not improve from 0.88215\n",
      "Epoch 14/50\n",
      "292/292 [==============================] - 2603s 9s/step - loss: 0.2004 - accuracy: 0.9363 - val_loss: 0.9425 - val_accuracy: 0.8748\n",
      "\n",
      "Epoch 00014: val_accuracy did not improve from 0.88215\n",
      "Epoch 15/50\n",
      "292/292 [==============================] - 2820s 10s/step - loss: 0.1909 - accuracy: 0.9417 - val_loss: 0.4416 - val_accuracy: 0.8618\n",
      "\n",
      "Epoch 00015: val_accuracy did not improve from 0.88215\n",
      "Epoch 00015: early stopping\n"
     ]
    },
    {
     "data": {
      "text/plain": [
       "<keras.callbacks.callbacks.History at 0x257ec94d0b8>"
      ]
     },
     "execution_count": 26,
     "metadata": {},
     "output_type": "execute_result"
    }
   ],
   "source": [
    "model.fit_generator(\n",
    "    datagen.flow(train_X,train_y),\n",
    "    steps_per_epoch=len(train_X) // batch_size,\n",
    "    epochs=50,\n",
    "    validation_data=test_datagen.flow(validation_X,validation_y),\n",
    "    validation_steps=len(validation_X) // batch_size,\n",
    "    callbacks= callbacks\n",
    ")"
   ]
  },
  {
   "cell_type": "code",
   "execution_count": 2,
   "metadata": {},
   "outputs": [],
   "source": [
    "import pickle"
   ]
  },
  {
   "cell_type": "code",
   "execution_count": 3,
   "metadata": {},
   "outputs": [],
   "source": [
    "loaded_model = pickle.load(open('best_model.sav', 'rb'))"
   ]
  },
  {
   "cell_type": "code",
   "execution_count": 30,
   "metadata": {},
   "outputs": [],
   "source": [
    "filename='best_model.sav'\n",
    "pickle.dump(model, open(filename, 'wb'))"
   ]
  },
  {
   "cell_type": "code",
   "execution_count": 7,
   "metadata": {},
   "outputs": [],
   "source": [
    "import matplotlib.pyplot as plt"
   ]
  },
  {
   "cell_type": "code",
   "execution_count": 37,
   "metadata": {
    "scrolled": true
   },
   "outputs": [
    {
     "name": "stdout",
     "output_type": "stream",
     "text": [
      "dict_keys(['val_loss', 'val_accuracy', 'loss', 'accuracy'])\n"
     ]
    },
    {
     "data": {
      "image/png": "[encoded data removed]",
      "text/plain": [
       "<Figure size 432x288 with 1 Axes>"
      ]
     },
     "metadata": {
      "needs_background": "light"
     },
     "output_type": "display_data"
    },
    {
     "data": {
      "image/png": "[encoded data removed]",
      "text/plain": [
       "<Figure size 432x288 with 1 Axes>"
      ]
     },
     "metadata": {
      "needs_background": "light"
     },
     "output_type": "display_data"
    }
   ],
   "source": [
    "print(history.history.keys())\n",
    "# summarize history for accuracy\n",
    "plt.plot(history.history['accuracy'])\n",
    "plt.plot(history.history['val_accuracy'])\n",
    "plt.title('model accuracy')\n",
    "plt.ylabel('accuracy')\n",
    "plt.xlabel('epoch')\n",
    "plt.legend(['train', 'validation'], loc='lower right')\n",
    "plt.show()\n",
    "# summarize history for loss\n",
    "plt.plot([1.0954, 0.6080, 0.4915, 0.4324, 0.3539, 0.3230, 0.2922, 0.2916, 0.2533, 0.2311, 0.2267, 0.2148, 0.2131, 0.2004, 0.1909])\n",
    "plt.plot([2.8033, 1.6508, 0.7540, 0.1488, 0.1437, 0.3928, 0.4648, 0.7089, 0.7187, 1.8810, 0.1992, 0.7741, 0.3153, 0.9425, 0.4416])\n",
    "plt.title('model loss')\n",
    "plt.ylabel('loss')\n",
    "plt.xlabel('epoch')\n",
    "plt.legend(['train', 'validation'], loc='upper left')\n",
    "plt.show()"
   ]
  },
  {
   "cell_type": "code",
   "execution_count": 9,
   "metadata": {},
   "outputs": [
    {
     "data": {
      "image/png": "[encoded data removed]",
      "text/plain": [
       "<Figure size 432x288 with 1 Axes>"
      ]
     },
     "metadata": {
      "needs_background": "light"
     },
     "output_type": "display_data"
    },
    {
     "data": {
      "image/png": "[encoded data removed]",
      "text/plain": [
       "<Figure size 432x288 with 1 Axes>"
      ]
     },
     "metadata": {
      "needs_background": "light"
     },
     "output_type": "display_data"
    }
   ],
   "source": [
    "\n",
    "# summarize history for accuracy\n",
    "plt.plot([0.6739, 0.8101, 0.8487, 0.8590, 0.8836, 0.8953, 0.9051, 0.9060, 0.9222, 0.9241, 0.9235, 0.9304, 0.9313, 0.9363, 0.9417])\n",
    "plt.plot([0.1498, 0.4588, 0.7764, 0.8488, 0.8679, 0.8778, 0.8666, 0.8761, 0.8791, 0.8821, 0.8679, 0.8787, 0.8817, 0.8748, 0.8618])\n",
    "plt.title('model accuracy')\n",
    "plt.ylabel('accuracy')\n",
    "plt.xlabel('epoch')\n",
    "plt.legend(['train', 'validation'], loc='lower right')\n",
    "plt.show()\n",
    "# summarize history for loss\n",
    "plt.plot([1.0954, 0.6080, 0.4915, 0.4324, 0.3539, 0.3230, 0.2922, 0.2916, 0.2533, 0.2311, 0.2267, 0.2148, 0.2131, 0.2004, 0.1909])\n",
    "plt.plot([2.8033, 1.6508, 0.7540, 0.1488, 0.1437, 0.3928, 0.4648, 0.7089, 0.7187, 1.8810, 0.1992, 0.7741, 0.3153, 0.9425, 0.4416])\n",
    "plt.title('model loss')\n",
    "plt.ylabel('loss')\n",
    "plt.xlabel('epoch')\n",
    "plt.legend(['train', 'validation'], loc='upper right')\n",
    "plt.show()"
   ]
  },
  {
   "cell_type": "code",
   "execution_count": null,
   "metadata": {},
   "outputs": [],
   "source": []
  }
 ],
 "metadata": {
  "kernelspec": {
   "display_name": "Python 3",
   "language": "python",
   "name": "python3"
  },
  "language_info": {
   "codemirror_mode": {
    "name": "ipython",
    "version": 3
   },
   "file_extension": ".py",
   "mimetype": "text/x-python",
   "name": "python",
   "nbconvert_exporter": "python",
   "pygments_lexer": "ipython3",
   "version": "3.6.10"
  }
 },
 "nbformat": 4,
 "nbformat_minor": 4
}
